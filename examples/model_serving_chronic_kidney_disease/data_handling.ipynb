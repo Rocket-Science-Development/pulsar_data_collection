{
 "cells": [
  {
   "cell_type": "code",
   "execution_count": 16,
   "metadata": {},
   "outputs": [],
   "source": [
    "import pandas as pd\n",
    "import pickle as pkl\n"
   ]
  },
  {
   "cell_type": "code",
   "execution_count": 22,
   "metadata": {},
   "outputs": [
    {
     "name": "stdout",
     "output_type": "stream",
     "text": [
      "(32, 25)\n",
      "(32, 1)\n",
      "<class 'numpy.ndarray'>\n"
     ]
    },
    {
     "data": {
      "text/plain": [
       "(32, 26)"
      ]
     },
     "execution_count": 22,
     "metadata": {},
     "output_type": "execute_result"
    }
   ],
   "source": [
    "model = pkl.load(open(\"kidney_disease.pkl\", \"rb\"))\n",
    "\n",
    "data = pd.read_csv(\"test_data_no_class.csv\", sep=\",\", header=0)\n",
    "print(data.shape)\n",
    "\n",
    "prediction = model.predict(data)\n",
    "\n",
    "pred_df = pd.DataFrame(prediction, columns=['class'])\n",
    "print(pred_df.shape)\n",
    "print(type(prediction))\n",
    "\n",
    "data_with_prediction = pd.concat([data, pred_df], axis=1)\n",
    "\n",
    "data_with_prediction.shape"
   ]
  },
  {
   "cell_type": "code",
   "execution_count": null,
   "metadata": {},
   "outputs": [],
   "source": []
  }
 ],
 "metadata": {
  "kernelspec": {
   "display_name": "Python 3.9.13 ('.venv': poetry)",
   "language": "python",
   "name": "python3"
  },
  "language_info": {
   "codemirror_mode": {
    "name": "ipython",
    "version": 3
   },
   "file_extension": ".py",
   "mimetype": "text/x-python",
   "name": "python",
   "nbconvert_exporter": "python",
   "pygments_lexer": "ipython3",
   "version": "3.9.13"
  },
  "orig_nbformat": 4,
  "vscode": {
   "interpreter": {
    "hash": "e3b85f83ff6cd8bce9468b1ecc75da531c9c9d61ae7d4f3f149dd2a780175f9a"
   }
  }
 },
 "nbformat": 4,
 "nbformat_minor": 2
}
