{
   "cells": [
      {
         "cell_type": "code",
         "execution_count": 1,
         "metadata": {},
         "outputs": [],
         "source": [
            "import pandas as pd\n",
            "import pickle as pkl\n",
            "from pathlib import Path"
         ]
      },
      {
         "cell_type": "code",
         "execution_count": 4,
         "metadata": {},
         "outputs": [
            {
               "name": "stdout",
               "output_type": "stream",
               "text": [
                  "<class 'pandas.core.frame.DataFrame'>\n",
                  "(32, 1)\n",
                  "<class 'numpy.ndarray'>\n",
                  "     id   age    bp     sg   al  su  rbc  pc  pcc  ba  ...   pcv     wbcc  \\\n",
                  "0   214  55.0  80.0  1.010  3.0   1    1   0    1   1  ...  34.0   7400.0   \n",
                  "1   372  28.0  60.0  1.025  0.0   0    1   1    0   0  ...  51.0   6500.0   \n",
                  "2   367  60.0  80.0  1.025  0.0   0    1   1    0   0  ...  46.0  10500.0   \n",
                  "3   260  35.0  80.0  1.020  0.0   0    1   1    0   0  ...  45.0   4300.0   \n",
                  "4   374  61.0  70.0  1.025  0.0   0    1   1    0   0  ...  47.0   9200.0   \n",
                  "5   243  69.0  70.0  1.010  4.0   3    1   0    1   1  ...  28.0  11500.0   \n",
                  "6   307  52.0  80.0  1.020  0.0   0    1   1    0   0  ...  52.0   4300.0   \n",
                  "7   362  29.0  80.0  1.020  0.0   0    1   1    0   0  ...  54.0   5400.0   \n",
                  "8   371  69.0  70.0  1.020  0.0   0    1   1    0   0  ...  50.0   9300.0   \n",
                  "9   263  55.0  80.0  1.020  0.0   0    1   1    0   0  ...  43.0   7200.0   \n",
                  "10  267  55.0  80.0  1.020  0.0   0    1   1    0   0  ...  41.0   6800.0   \n",
                  "11  398  12.0  80.0  1.020  0.0   0    1   1    0   0  ...  49.0   6600.0   \n",
                  "12  213  40.0  70.0  1.015  3.0   4    1   1    0   0  ...  31.0   8800.0   \n",
                  "13  378  64.0  70.0  1.020  0.0   0    1   1    0   0  ...  49.0   6400.0   \n",
                  "14  345  64.0  60.0  1.020  0.0   0    1   1    0   0  ...  42.0   8100.0   \n",
                  "15  292  47.0  80.0  1.025  0.0   0    1   1    0   0  ...  41.0   7000.0   \n",
                  "16  388  15.0  80.0  1.025  0.0   0    1   1    0   0  ...  50.0   6200.0   \n",
                  "17  342  63.0  70.0  1.025  0.0   0    1   1    0   0  ...  41.0   7300.0   \n",
                  "18  387  46.0  70.0  1.025  0.0   0    1   1    0   0  ...  43.0   5700.0   \n",
                  "19  383  48.0  80.0  1.025  0.0   0    1   1    0   0  ...  51.0   6000.0   \n",
                  "20   92  56.0  70.0  1.015  4.0   1    0   1    0   0  ...  52.0  12500.0   \n",
                  "21  327  47.0  60.0  1.020  0.0   0    1   1    0   0  ...  41.0   8300.0   \n",
                  "22  293  30.0  80.0  1.020  0.0   0    1   1    0   0  ...  52.0  10200.0   \n",
                  "23   15  68.0  80.0  1.010  3.0   2    1   0    1   1  ...  16.0  11000.0   \n",
                  "24  365  73.0  80.0  1.025  0.0   0    1   1    0   0  ...  45.0   9300.0   \n",
                  "25  131  50.0  90.0  1.010  2.0   0    1   0    1   1  ...  22.0  16300.0   \n",
                  "26  400  58.0  80.0  1.025  0.0   0    1   1    0   0  ...  53.0   6800.0   \n",
                  "27   59  73.0  80.0  1.020  2.0   0    0   0    0   0  ...  33.0   7200.0   \n",
                  "28  399  17.0  60.0  1.025  0.0   0    1   1    0   0  ...  51.0   7200.0   \n",
                  "29  129  52.0  90.0  1.015  4.0   3    1   0    0   0  ...  23.0   5000.0   \n",
                  "30   85  59.0  70.0  1.010  3.0   0    1   0    0   0  ...  22.0   3800.0   \n",
                  "31  299  34.0  60.0  1.020  0.0   0    1   1    0   0  ...  48.0   8600.0   \n",
                  "\n",
                  "    rbcc  htn  dm  cad  appet  pe  ane  class  \n",
                  "0    3.7    1   1    0      0   1    0      1  \n",
                  "1    5.0    0   0    0      0   0    0      0  \n",
                  "2    5.3    0   0    0      0   0    0      0  \n",
                  "3    5.2    0   0    0      0   0    0      0  \n",
                  "4    4.9    0   0    0      0   0    0      0  \n",
                  "5    3.3    1   1    1      0   1    1      1  \n",
                  "6    5.7    0   0    0      0   0    0      0  \n",
                  "7    5.8    0   0    0      0   0    0      0  \n",
                  "8    5.4    0   0    0      0   0    0      0  \n",
                  "9    5.4    0   0    0      0   0    0      0  \n",
                  "10   5.3    0   0    0      0   0    0      0  \n",
                  "11   5.4    0   0    0      0   0    0      0  \n",
                  "12   3.4    1   1    0      1   1    0      1  \n",
                  "13   4.8    0   0    0      0   0    0      0  \n",
                  "14   4.7    0   0    0      0   0    0      0  \n",
                  "15   5.7    0   0    0      0   0    0      0  \n",
                  "16   5.2    0   0    0      0   0    0      0  \n",
                  "17   4.7    0   0    0      0   0    0      0  \n",
                  "18   6.5    0   0    0      0   0    0      0  \n",
                  "19   6.5    0   0    0      0   0    0      0  \n",
                  "20   5.6    0   0    0      0   0    0      1  \n",
                  "21   5.2    0   0    0      0   0    0      0  \n",
                  "22   5.0    0   0    0      0   0    0      0  \n",
                  "23   2.6    1   1    1      1   1    0      1  \n",
                  "24   4.7    0   0    0      0   0    0      0  \n",
                  "25   2.7    0   0    0      1   1    1      1  \n",
                  "26   6.1    0   0    0      0   0    0      0  \n",
                  "27   4.3    1   1    1      0   0    0      1  \n",
                  "28   5.9    0   0    0      0   0    0      0  \n",
                  "29   2.9    1   1    0      0   0    1      1  \n",
                  "30   2.1    1   0    0      1   1    1      1  \n",
                  "31   4.9    0   0    0      0   0    0      0  \n",
                  "\n",
                  "[32 rows x 26 columns]\n",
                  "(32, 26)\n"
               ]
            }
         ],
         "source": [
            "model = pkl.load(open(\"kidney_disease.pkl\", \"rb\"))\n",
            "\n",
            "data = pd.read_csv(\"test_data_no_class.csv\", sep=\",\", header=0)\n",
            "print(type(data.columns))\n",
            "\n",
            "prediction = model.predict(data)\n",
            "\n",
            "pred_df = pd.DataFrame(prediction, columns=['class'])\n",
            "print(pred_df.shape)\n",
            "print(type(prediction))\n",
            "\n",
            "data_with_prediction = pd.concat([data, pred_df], axis=1)\n",
            "print(data_with_prediction)\n",
            "\n",
            "data_with_prediction.shape\n",
            "print(data_with_prediction.shape)"
         ]
      },
      {
         "cell_type": "code",
         "execution_count": 3,
         "metadata": {},
         "outputs": [],
         "source": [
            "p = Path(\"kidney_disease.pkl\")\n",
            "p.exists()\n",
            "model = pkl.load(open(\"kidney_disease.pkl\", \"rb\"))\n"
         ]
      },
      {
         "cell_type": "code",
         "execution_count": null,
         "metadata": {},
         "outputs": [],
         "source": []
      }
   ],
   "metadata": {
      "kernelspec": {
         "display_name": "Python 3.9.13 ('.venv': poetry)",
         "language": "python",
         "name": "python3"
      },
      "language_info": {
         "codemirror_mode": {
            "name": "ipython",
            "version": 3
         },
         "file_extension": ".py",
         "mimetype": "text/x-python",
         "name": "python",
         "nbconvert_exporter": "python",
         "pygments_lexer": "ipython3",
         "version": "3.9.13"
      },
      "orig_nbformat": 4,
      "vscode": {
         "interpreter": {
            "hash": "9825c03b12f9f105b44715fb5ee912c69ccc63c9be3c54acab4b63b81b5a53c6"
         }
      }
   },
   "nbformat": 4,
   "nbformat_minor": 2
}
